{
  "nbformat": 4,
  "nbformat_minor": 0,
  "metadata": {
    "kernelspec": {
      "display_name": "testenv",
      "language": "python",
      "name": "testenv"
    },
    "language_info": {
      "codemirror_mode": {
        "name": "ipython",
        "version": 3
      },
      "file_extension": ".py",
      "mimetype": "text/x-python",
      "name": "python",
      "nbconvert_exporter": "python",
      "pygments_lexer": "ipython3",
      "version": "3.7.9"
    },
    "colab": {
      "name": "TPU-GPU-CPU_Mateo_Caro.ipynb",
      "provenance": [],
      "toc_visible": true,
      "include_colab_link": true
    }
  },
  "cells": [
    {
      "cell_type": "markdown",
      "metadata": {
        "id": "view-in-github",
        "colab_type": "text"
      },
      "source": [
        "<a href=\"https://colab.research.google.com/github/mcaroc/Diplomado-Machine-Learning/blob/main/TPU_GPU_CPU_Mateo_Caro.ipynb\" target=\"_parent\"><img src=\"https://colab.research.google.com/assets/colab-badge.svg\" alt=\"Open In Colab\"/></a>"
      ]
    },
    {
      "cell_type": "code",
      "metadata": {
        "colab": {
          "base_uri": "https://localhost:8080/"
        },
        "id": "koIeRIvYvDH9",
        "outputId": "6786f88b-839c-4a6f-8594-5a4f7e25a154"
      },
      "source": [
        "from google.colab import drive\r\n",
        "drive.mount('/content/drive')"
      ],
      "execution_count": null,
      "outputs": [
        {
          "output_type": "stream",
          "text": [
            "Drive already mounted at /content/drive; to attempt to forcibly remount, call drive.mount(\"/content/drive\", force_remount=True).\n"
          ],
          "name": "stdout"
        }
      ]
    },
    {
      "cell_type": "markdown",
      "metadata": {
        "id": "3HG3cgQbuVN-"
      },
      "source": [
        "\n",
        "# GPU-CPU-TPU...¿Qué son? ¿Para qué sirven? ¿En qué se diferencian?\n",
        "# Mateo Caro\n"
      ]
    },
    {
      "cell_type": "markdown",
      "metadata": {
        "id": "jGZ8q0x-uVOJ"
      },
      "source": [
        "# 1. ¿Qué es una GPU?"
      ]
    },
    {
      "cell_type": "markdown",
      "metadata": {
        "id": "yppBi_q9uVOJ"
      },
      "source": [
        "Una GPU **(Graphical processing unit)** es una unidad de procesamiento dedicada, principalmente, a la renderización de gráficos 2D y 3D. Si bien son usadas principalmente para dicho fin, también pueden ser usadas para otros medios como el procesamiento artificial, gracias a su capacidad de trabajar junto a la CPU con el fin de acelerar cálculos computacionales.\n",
        "\n",
        "## 1.1 Tipos de GPU\n",
        "\n",
        "Existen tres tipos de GPU, clasificadas por la forma con la que interaccionan con el sistema para realizar sus cálculos.\n",
        "\n",
        "### 1.1.1 Tarjetas Dedicadas\n",
        "Las GPU que poseen tarjetas dedicadas son aquellas que poseen una serie de especificaciones completamente exclusivas y conscecuentes de cumplir las tareas específicas de la GPU (procesamiento gráfico). Por esta razón, son las más eficientes en este aspecto de los 3 tipos de GPU que existen. Además, cumplen con la condición de tener una memoria RAM independiente a la del sistema central, lo que significa que no depende de este para realizar sus cálculos, alivianando la carga computacional.\n",
        "\n",
        "\n",
        "<center>\n",
        "<img src=\"https://www.nvidia.com/content/dam/en-zz/Solutions/geforce/ampere/rtx-3090/geforce-rtx-3090-shop-600-p@2x.png\" alt=\"Ejemplo de GPU dedicada. Source: NVIDIA\" width=\"700\" >\n",
        "</center>\n",
        "\n",
        "\n",
        "\n",
        "### 1.1.2 Tarjetas Integradas \n",
        "\n",
        "Este tipo de GPU son las comunes en los computadores y sistemas electrónicos actuales, pues son las de menor precio. Este tipo de GPU, a diferencia de las Tarjetas Dedicadas, comparte la memoria RAM del computador para realizar los cálculos de procesamiento gráfico, aunque poseen una pequeña cantidad de memoria para realizar ciertos cálculos específico. \n",
        "\n",
        "\n",
        "<center>\n",
        "<img src=\"https://tpucdn.com/gpu-specs/images/c/3601-front.jpg\" alt=\"Ejemplo de GPU integrada. Source: TechPowerUp\" width=\"700\" >\n",
        "</center>\n",
        "\n",
        "### 1.1.3 Tarjetas Híbridas\n",
        "\n",
        "El tipo de GPU híbrida, como su nombre lo indica, recoge, en cierta medida, las carácterísticas de las Tarjetas Dedicadas y las Tarjetas Integradas, pues, si bien comparten la memoria RAM del sistema para realizar cálculos de procesamiento gráfico, también poseen una memoria integrada que puede apoyar el proceso de una manera consistente.\n",
        "\n",
        "## 1.1. Computación Acelerada por GPU\n",
        "\n",
        "La computación acelerada por GPU es el uso de la unidad de procesamiento de gráficos junto a la CPU, con el fin de acelerar los cálculos para el funcionamiento de modelos que requieran aplicaciones de aprendizaje profundo (Deep Learning). La aplicación de esta función se puede observar en el procesamiento de grandes volumenes de datos científicos, así como también ayudan en la toma de decisiones comerciales y empresariales.\n",
        "\n",
        "<center>\n",
        "<img src=\"http://www.nvidia.com/docs/IO/143716/how-gpu-acceleration-works.png\" alt=\"Aceleración mediante GPU. Source: NVIDIA\" width=\"700\" >\n",
        "</center>\n",
        "\n",
        "\n"
      ]
    },
    {
      "cell_type": "markdown",
      "metadata": {
        "id": "iiW6gGE6uVOK"
      },
      "source": [
        "# 2. ¿Qué es una CPU?"
      ]
    },
    {
      "cell_type": "markdown",
      "metadata": {
        "id": "mJHUnstBuVOK"
      },
      "source": [
        "Una CPU es la Unidad de Procesamiento Central, uno de los componentes esenciales de computadores, Smmartphones y otros dispositivos eléctrónicos, tiene la función de procesar todas, o la mayoría de las instrucciones y acciones del dispositivo, enlazando así todos sus componentes. Asimismo, en la CPU se pueden identificar tres componentes principales:\n",
        "\n",
        "<center>\n",
        "<img src=\"https://upload.wikimedia.org/wikipedia/en/f/fc/Intel_Core_i9-10900K.png\" alt=\"Ejemplo de CPU. Source: Wikipedia\" width=\"700\" >\n",
        "</center>\n",
        "\n",
        "\n",
        "\n",
        "\n",
        "1. **Memoria Principal**  \n",
        "\n",
        "    En este espacio de memoria, se almacenan, temporalmente, aquellos datos o programas que la CPU va a ejecutar o necesitará para procesos de ejecución posteriores.\n",
        "    \n",
        "    \n",
        "\n",
        "1. **Unidad de Control**  \n",
        "\n",
        "    La función de la Unidad de Control es enlazar la Memoria Principal del procesador o CPU y la Unidad Lógico-Aritmética (ALU), pues esta busco las instrucciones, u ordenes, en la Memoria Principal, intepretándolas y, posteriormente, ejecutándolas mediante el soporte de la Unidad Lógico-Aritmética.\n",
        "    \n",
        "\n",
        "3. **Unidad Lógico-Aritmética (ALU)**\n",
        "\n",
        "    La Unidad Lógico-Aritmética (Arithmetic Logic Unit) se encarrga de la ejecución de cálculos lógicos y aritméticos encargados por la Unidad de Control. Este componente de la memoria esencial en el desarrollo de modelos de Deep Learning, los cuales requieren una cantidad masiva de operaciones aritméticas simultáneas.\n",
        "\n",
        "<center>\n",
        "<img src=\"https://upload.wikimedia.org/wikipedia/commons/thumb/d/d8/ABasicComputer.gif/370px-ABasicComputer.gif\" alt=\"¿Cómo funciona la GPU? Source: Wikipedia\" width=\"700\">\n",
        "</center>\n",
        "\n",
        "\n",
        "\n",
        "\n"
      ]
    },
    {
      "cell_type": "markdown",
      "metadata": {
        "id": "9N9QobmuuVOK"
      },
      "source": [
        "# 3. ¿Qué es una TPU?"
      ]
    },
    {
      "cell_type": "markdown",
      "metadata": {
        "id": "tvibNxuJuVOL"
      },
      "source": [
        "En lo que respecta a los cálculos relacionados a modelos de Deep Learning, los cuales se sustentan en un vasto número de cálculos aritméticos simúltaneos, las TPU (Tensor Processing Unit) son los tipos de procesadores más adecuados para llevar a cabo dicha tarea.  \n",
        "\n",
        "Son desarrollados por Google con el fin de acelerar el procesamiento de algoritmos dedicados al Machine Learning, en especial con la libreria Tensorflow. El uso de estas GPU se puede realizar mediante la nube de Google, Google Cloud, y es de libre acceso.\n",
        "\n",
        "Dicho lo anterior,  la carácterística que hace a las TPU los procesadores ideales para los modelos de Deep Learning, es la capacidad de acelerar los cálculos de álgebra líneal, lo que, en consecuencia, permite optimizar el tiempo necesario para entrenar dichos modelos.  \n",
        "\n",
        "\n",
        "\n",
        "\n",
        "<center>\n",
        "<img src=\"https://cloud.google.com/tpu/docs/images/tpu--sys-arch1-pod.png\" alt=\"Funcionamiento de una TPU mediante Google Cloud Services. Source: Google\" width=\"700\">\n",
        "</center\n",
        "\n"
      ]
    },
    {
      "cell_type": "markdown",
      "metadata": {
        "id": "Km_-tUymaaKY"
      },
      "source": [
        "# 4. Bibliografía e Infografía"
      ]
    },
    {
      "cell_type": "markdown",
      "metadata": {
        "id": "uSj2anQOaiq7"
      },
      "source": [
        "Se hicieron uso de las siguientes páginas para el desarrollo de esta actividad:\r\n",
        "\r\n",
        "- [NVIDIA](https://www.nvidia.com/es-la/drivers/what-is-gpu-computing/#:~:text=La%20computación%20acelerada%20por%20GPU,aprendizaje%20profundo%2C%20análisis%20e%20ingeniería.)\r\n",
        "\r\n",
        "- [Google](https://cloud.google.com/tpu/docs/tpus#us)\r\n",
        "- [Intel](https://www.intel.com/content/www/us/en/products/docs/processors/what-is-a-gpu.html)\r\n",
        "- [Software Lab](https://softwarelab.org/es/que-es-la-gpu-o-tarjeta-grafica-de-un-ordenador/)"
      ]
    }
  ]
}